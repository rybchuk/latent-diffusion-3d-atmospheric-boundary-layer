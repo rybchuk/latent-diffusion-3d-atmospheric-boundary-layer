{
 "cells": [
  {
   "cell_type": "markdown",
   "metadata": {},
   "source": [
    "Convert `.npy` files to `.nc` files so that they can be read by `xr.open_mfdataset`."
   ]
  },
  {
   "cell_type": "code",
   "execution_count": null,
   "metadata": {},
   "outputs": [],
   "source": [
    "import numpy as np\n",
    "import xarray as xr\n",
    "from pathlib import Path"
   ]
  },
  {
   "cell_type": "code",
   "execution_count": null,
   "metadata": {},
   "outputs": [],
   "source": [
    "### Point to .npy inputs\n",
    "dir_in = Path('/scratch/orybchuk/wakedynamics/ldm-3d/simulations/train/nc')\n",
    "npy_files = list(Path(dir_in).glob('*.npy'))\n",
    "npy_files.sort()"
   ]
  },
  {
   "cell_type": "code",
   "execution_count": null,
   "metadata": {},
   "outputs": [],
   "source": [
    "### Convert to .nc\n",
    "dir_out = Path('/scratch/orybchuk/wakedynamics/ldm-3d/simulations/train/nc_trimmed')\n",
    "dir_out.mkdir(exist_ok=True)\n",
    "\n",
    "## Prepare for coords\n",
    "x = np.arange(0, 128)*15\n",
    "y = np.arange(0, 128)*15\n",
    "z = np.arange(0, 32)*15\n",
    "# z = np.arange(0, 32)*15  # Trim the height so we're only looking below the capping inversion\n",
    "\n",
    "for i in range(len(npy_files)):\n",
    "    if i%100==0: print(i, '...')\n",
    "    # Open and reorganize data\n",
    "    npy_arr = np.load(npy_files[i])\n",
    "    npy_arr = npy_arr[np.newaxis,:,:,:,:]\n",
    "    \n",
    "    # Create and populate dataset\n",
    "    curr_time = int(npy_files[i].stem[2:])\n",
    "    coords = {'time': [curr_time], 'x':x, 'y':y, 'z':z}\n",
    "    ds = xr.Dataset(coords=coords)\n",
    "    ds['u'] = (('time', 'x', 'y', 'z'), npy_arr[:,0,:,:,:32])\n",
    "    ds['v'] = (('time', 'x', 'y', 'z'), npy_arr[:,1,:,:,:32])\n",
    "    ds['w'] = (('time', 'x', 'y', 'z'), npy_arr[:,2,:,:,:32])\n",
    "    \n",
    "    # Save\n",
    "    ds.to_netcdf(Path(dir_out, f'{curr_time}.nc'))"
   ]
  },
  {
   "cell_type": "code",
   "execution_count": null,
   "metadata": {},
   "outputs": [],
   "source": [
    "### Demo\n",
    "all_out_files = list(Path(dir_out).glob('*.nc'))\n",
    "all_out_files.sort()\n",
    "ds_all = xr.open_mfdataset(all_out_files)"
   ]
  },
  {
   "cell_type": "code",
   "execution_count": null,
   "metadata": {},
   "outputs": [],
   "source": []
  }
 ],
 "metadata": {
  "kernelspec": {
   "display_name": "wfp",
   "language": "python",
   "name": "wfp"
  },
  "language_info": {
   "codemirror_mode": {
    "name": "ipython",
    "version": 3
   },
   "file_extension": ".py",
   "mimetype": "text/x-python",
   "name": "python",
   "nbconvert_exporter": "python",
   "pygments_lexer": "ipython3",
   "version": "3.7.10"
  }
 },
 "nbformat": 4,
 "nbformat_minor": 2
}
