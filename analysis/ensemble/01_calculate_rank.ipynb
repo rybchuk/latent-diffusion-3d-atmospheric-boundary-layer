{
 "cells": [
  {
   "cell_type": "code",
   "execution_count": 1,
   "metadata": {},
   "outputs": [],
   "source": [
    "import numpy as np\n",
    "import matplotlib.pyplot as plt\n",
    "import xarray as xr\n",
    "from pathlib import Path"
   ]
  },
  {
   "cell_type": "code",
   "execution_count": 2,
   "metadata": {},
   "outputs": [],
   "source": [
    "### Prepare to open data\n",
    "rank_dirs = [Path('/projects/wakedynamics/orybchuk/ldm-3d/logs/2022-12-26T07-28-14_rank_geo_raaw_kl1_0000/images/test/postprocessed/'),\n",
    "                Path('/projects/wakedynamics/orybchuk/ldm-3d/logs/2022-12-26T07-28-14_rank_geo_raaw_kl1_0010/images/test/postprocessed/'),\n",
    "                Path('/projects/wakedynamics/orybchuk/ldm-3d/logs/2022-12-26T07-28-14_rank_geo_raaw_kl1_0020/images/test/postprocessed/'),\n",
    "                Path('/projects/wakedynamics/orybchuk/ldm-3d/logs/2022-12-26T07-36-10_rank_geo_raaw_kl1_0030/images/test/postprocessed/'),\n",
    "                Path('/projects/wakedynamics/orybchuk/ldm-3d/logs/2022-12-26T07-55-55_rank_geo_raaw_kl1_0040/images/test/postprocessed/'),\n",
    "                Path('/projects/wakedynamics/orybchuk/ldm-3d/logs/2022-12-26T07-55-55_rank_geo_raaw_kl1_0050/images/test/postprocessed/'),\n",
    "                Path('/projects/wakedynamics/orybchuk/ldm-3d/logs/2022-12-26T08-08-57_rank_geo_raaw_kl1_0060/images/test/postprocessed/'),\n",
    "                Path('/projects/wakedynamics/orybchuk/ldm-3d/logs/2022-12-26T08-08-57_rank_geo_raaw_kl1_0070/images/test/postprocessed/'),\n",
    "                Path('/projects/wakedynamics/orybchuk/ldm-3d/logs/2022-12-26T08-26-49_rank_geo_raaw_kl1_0080/images/test/postprocessed/'),\n",
    "                Path('/projects/wakedynamics/orybchuk/ldm-3d/logs/2022-12-26T08-26-49_rank_geo_raaw_kl1_0090/images/test/postprocessed/'),\n",
    "                Path('/projects/wakedynamics/orybchuk/ldm-3d/logs/2022-12-26T08-26-49_rank_geo_raaw_kl1_0100/images/test/postprocessed/'),\n",
    "                Path('/projects/wakedynamics/orybchuk/ldm-3d/logs/2022-12-26T08-26-49_rank_geo_raaw_kl1_0110/images/test/postprocessed/'),]"
   ]
  },
  {
   "cell_type": "code",
   "execution_count": 3,
   "metadata": {},
   "outputs": [],
   "source": [
    "### Calculate rank once\n",
    "## Helpful parameters\n",
    "n_ens = 10\n",
    "i_assess = 120\n",
    "j_assess = 64\n",
    "k_assess = 8\n",
    "vel_num = 0\n",
    "n_obs_per_dir = 10\n",
    "\n",
    "ranks = []\n",
    "\n",
    "## Iterate through and open data\n",
    "rank_dir = Path(rank_dirs[0])\n",
    "for rank_dir in rank_dirs:\n",
    "    for obs_num in range(n_obs_per_dir):  # Iterate through observations\n",
    "        # Open and arrange files\n",
    "        gt = np.load(Path(rank_dir, f'input_{str(obs_num).zfill(4)}.npy'))\n",
    "        obs = np.load(Path(rank_dir, f'conditioning_{str(obs_num).zfill(4)}.npy'))\n",
    "\n",
    "        ens = np.zeros((n_ens, gt.shape[0], gt.shape[1], gt.shape[2], gt.shape[3]))\n",
    "        for i in range(n_ens):\n",
    "            one_ens = np.load(Path(rank_dir, f'ens_{str(obs_num).zfill(4)}_{str(i).zfill(4)}.npy'))\n",
    "            ens[i,:,:,:,:] = one_ens.copy()\n",
    "\n",
    "        # Calculate rank\n",
    "        ens_point = ens[:,vel_num,i_assess,j_assess,k_assess].copy()\n",
    "        ens_point.sort()\n",
    "        gt_point = gt[vel_num,i_assess,j_assess,k_assess]\n",
    "\n",
    "        rank = np.sum(gt_point > ens_point) + 1\n",
    "        ranks.append(rank)"
   ]
  },
  {
   "cell_type": "code",
   "execution_count": 42,
   "metadata": {},
   "outputs": [
    {
     "data": {
      "image/png": "[encoded data removed]",
      "text/plain": [
       "<Figure size 500x375 with 1 Axes>"
      ]
     },
     "metadata": {
      "needs_background": "light"
     },
     "output_type": "display_data"
    }
   ],
   "source": [
    "fig, ax = plt.subplots(1, 1, figsize=(4,3), dpi=125)\n",
    "\n",
    "rank_bins = np.arange(1,13,1)\n",
    "\n",
    "ax.hist(ranks,\n",
    "           bins=rank_bins,\n",
    "           align='left',\n",
    "           color='k',\n",
    "           fill=False)\n",
    "ax.axhline(len(ranks)/(n_ens+1),\n",
    "              color='k',\n",
    "              alpha=0.5,\n",
    "              ls='--',\n",
    "              label='Uniform distribution')\n",
    "\n",
    "ax.set_xticks(rank_bins[:-1])\n",
    "ax.set_xticklabels(rank_bins[:-1])\n",
    "\n",
    "yticks = [0, 5, 10, 15, 20]\n",
    "ax.set_yticks(yticks)\n",
    "\n",
    "ax.set_xlabel(\"Rank\")\n",
    "ax.set_ylabel(\"Count\")\n",
    "ax.legend()\n",
    "\n",
    "\n",
    "plt.show()"
   ]
  },
  {
   "cell_type": "code",
   "execution_count": null,
   "metadata": {},
   "outputs": [],
   "source": []
  }
 ],
 "metadata": {
  "kernelspec": {
   "display_name": "wfp",
   "language": "python",
   "name": "wfp"
  },
  "language_info": {
   "codemirror_mode": {
    "name": "ipython",
    "version": 3
   },
   "file_extension": ".py",
   "mimetype": "text/x-python",
   "name": "python",
   "nbconvert_exporter": "python",
   "pygments_lexer": "ipython3",
   "version": "3.7.10"
  }
 },
 "nbformat": 4,
 "nbformat_minor": 2
}
