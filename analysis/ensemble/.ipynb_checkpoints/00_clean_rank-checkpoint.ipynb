{
 "cells": [
  {
   "cell_type": "markdown",
   "metadata": {},
   "source": [
    "Create a stronger link between one observation and the associated ensemble members"
   ]
  },
  {
   "cell_type": "code",
   "execution_count": null,
   "metadata": {},
   "outputs": [],
   "source": [
    "import numpy as np\n",
    "import matplotlib.pyplot as plt\n",
    "import xarray as xr\n",
    "from pathlib import Path"
   ]
  },
  {
   "cell_type": "code",
   "execution_count": null,
   "metadata": {},
   "outputs": [],
   "source": [
    "### Work within one logs/ directory\n",
    "data_dir = Path('/projects/wakedynamics/orybchuk/ldm-3d/logs/2023-10-14T00-33-45_split-rank-geo-raaw-kl1_0300/images/test')\n",
    "out_dir = Path(data_dir, 'postprocessed')\n",
    "out_dir.mkdir(exist_ok=True)"
   ]
  },
  {
   "cell_type": "code",
   "execution_count": null,
   "metadata": {},
   "outputs": [],
   "source": [
    "### Helper parameters\n",
    "n_files_per_sim = len(list(data_dir.glob('inputs*.npy')))\n",
    "n_ens_per_obs = 10\n",
    "n_batch = 2\n",
    "n_files_per_obs = int(n_ens_per_obs/n_batch)\n",
    "assert n_ens_per_obs%n_batch==0"
   ]
  },
  {
   "cell_type": "markdown",
   "metadata": {},
   "source": [
    "### Ground truth data"
   ]
  },
  {
   "cell_type": "code",
   "execution_count": null,
   "metadata": {},
   "outputs": [],
   "source": [
    "### Deal with the ground truth, input files\n",
    "file_iter = 0\n",
    "for i in range(0, n_files_per_sim, n_files_per_obs):\n",
    "    input_data = np.load(Path(data_dir, f'inputs_gs-000000_e-000000_b-{str(i).zfill(6)}.npy'))[0,:,:,:,:]\n",
    "    np.save(Path(out_dir, f'input_{str(file_iter).zfill(4)}.npy'), input_data)\n",
    "    \n",
    "    cond_data = np.load(Path(data_dir, f'conditioning_gs-000000_e-000000_b-{str(i).zfill(6)}.npy'))[0,:,:,:,:]\n",
    "    np.save(Path(out_dir, f'conditioning_{str(file_iter).zfill(4)}.npy'), cond_data)\n",
    "    \n",
    "    file_iter += 1"
   ]
  },
  {
   "cell_type": "code",
   "execution_count": null,
   "metadata": {},
   "outputs": [],
   "source": [
    "### Check that input files are distinct\n",
    "fig, ax = plt.subplots(1, 2, figsize=(8,4), sharex=True, sharey=True, dpi=125)\n",
    "\n",
    "check1 = np.load(Path(out_dir, 'input_0000.npy'))\n",
    "check2 = np.load(Path(out_dir, 'input_0001.npy'))\n",
    "\n",
    "ax1 = ax[0].imshow(check1[0,:,64,:].T,\n",
    "                  origin='lower')\n",
    "ax1 = ax[1].imshow(check2[0,:,64,:].T,\n",
    "                  origin='lower')\n",
    "\n",
    "plt.show()"
   ]
  },
  {
   "cell_type": "markdown",
   "metadata": {},
   "source": [
    "### Ensemble members"
   ]
  },
  {
   "cell_type": "code",
   "execution_count": null,
   "metadata": {},
   "outputs": [],
   "source": [
    "### Deal with the ground truth, input files\n",
    "obs_iter = 0\n",
    "file_iter = 0\n",
    "for i in range(0, n_files_per_sim, n_files_per_obs):  # Iterate over observations\n",
    "    ens_num = 0\n",
    "    for j in range(n_files_per_obs):\n",
    "        ens_data = np.load(Path(data_dir, f'samples_gs-000000_e-000000_b-{str(file_iter).zfill(6)}.npy'))\n",
    "        \n",
    "        for batchnum in range(n_batch):\n",
    "            np.save(Path(out_dir, f'ens_{str(obs_iter).zfill(4)}_{str(ens_num).zfill(4)}.npy'), ens_data[batchnum,:,:,:,:])\n",
    "            ens_num += 1\n",
    "        file_iter += 1\n",
    "\n",
    "    obs_iter += 1"
   ]
  },
  {
   "cell_type": "code",
   "execution_count": null,
   "metadata": {},
   "outputs": [],
   "source": [
    "### Check that ensemble files are distinct\n",
    "fig, ax = plt.subplots(1, 2, figsize=(8,4), sharex=True, sharey=True, dpi=125)\n",
    "\n",
    "check1 = np.load(Path(out_dir, 'ens_0000_0000.npy'))\n",
    "check2 = np.load(Path(out_dir, 'ens_0001_0000.npy'))\n",
    "\n",
    "ax1 = ax[0].imshow(check1[0,:,64,:].T,\n",
    "                  origin='lower')\n",
    "ax1 = ax[1].imshow(check2[0,:,64,:].T,\n",
    "                  origin='lower')\n",
    "\n",
    "plt.show()"
   ]
  },
  {
   "cell_type": "code",
   "execution_count": null,
   "metadata": {},
   "outputs": [],
   "source": [
    "### Check if ensemble members sort of match the observation\n",
    "fig, ax = plt.subplots(4, 3, figsize=(12,10), sharex=True, sharey=True, dpi=125)\n",
    "\n",
    "obs_num = 6\n",
    "gt1 = np.load(Path(out_dir, f'input_{str(obs_num).zfill(4)}.npy'))\n",
    "obs1 = np.load(Path(out_dir, f'conditioning_{str(obs_num).zfill(4)}.npy'))\n",
    "\n",
    "ax1 = ax[0,0].imshow(gt1[0,:,64,:].T,\n",
    "                  origin='lower',\n",
    "                  vmin=-0.8,\n",
    "                  vmax=0.8)\n",
    "ax1 = ax[0,1].imshow(obs1[0,:,64,:].T,\n",
    "                  origin='lower',\n",
    "                  vmin=-0.8,\n",
    "                  vmax=0.8)\n",
    "ax[0,0].set_title(\"Ground Truth\")\n",
    "ax[0,1].set_title(\"Observation\")\n",
    "\n",
    "for i, axs in enumerate(ax.flatten()[2:]):\n",
    "    ens = np.load(Path(out_dir, f'ens_{str(obs_num).zfill(4)}_{str(i).zfill(4)}.npy'))\n",
    "    axs.imshow(ens[0,:,64,:].T,\n",
    "                  origin='lower',\n",
    "                  vmin=-0.8,\n",
    "                  vmax=0.8)\n",
    "    axs.set_title(\"Ensemble Member \"+str(i))\n",
    "\n",
    "\n",
    "plt.show()"
   ]
  },
  {
   "cell_type": "code",
   "execution_count": null,
   "metadata": {},
   "outputs": [],
   "source": [
    "# i_assess = 120\n",
    "# j_assess = 64\n",
    "# k_assess = 8\n",
    "# obs1[0,i_assess,j_assess,k_assess]"
   ]
  },
  {
   "cell_type": "code",
   "execution_count": null,
   "metadata": {},
   "outputs": [],
   "source": []
  }
 ],
 "metadata": {
  "kernelspec": {
   "display_name": "daskenv202305",
   "language": "python",
   "name": "daskenv202305"
  },
  "language_info": {
   "codemirror_mode": {
    "name": "ipython",
    "version": 3
   },
   "file_extension": ".py",
   "mimetype": "text/x-python",
   "name": "python",
   "nbconvert_exporter": "python",
   "pygments_lexer": "ipython3",
   "version": "3.10.9"
  }
 },
 "nbformat": 4,
 "nbformat_minor": 4
}
